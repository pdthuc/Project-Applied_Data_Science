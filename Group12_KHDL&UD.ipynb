{
  "nbformat": 4,
  "nbformat_minor": 0,
  "metadata": {
    "colab": {
      "name": "Group12_KHDL&UD.ipynb",
      "provenance": [],
      "toc_visible": true,
      "authorship_tag": "ABX9TyOI3R+O1Qk003MLLXgMyGp+",
      "include_colab_link": true
    },
    "kernelspec": {
      "name": "python3",
      "display_name": "Python 3"
    },
    "language_info": {
      "name": "python"
    }
  },
  "cells": [
    {
      "cell_type": "markdown",
      "metadata": {
        "id": "view-in-github",
        "colab_type": "text"
      },
      "source": [
        "<a href=\"https://colab.research.google.com/github/phamdinhthuc020100/Project-Data_Science_and_Application/blob/main/Group12_KHDL%26UD.ipynb\" target=\"_parent\"><img src=\"https://colab.research.google.com/assets/colab-badge.svg\" alt=\"Open In Colab\"/></a>"
      ]
    },
    {
      "cell_type": "markdown",
      "metadata": {
        "id": "n5AN8sNYxJdl"
      },
      "source": [
        "# SEMINAR KHOA HỌC DỮ LIỆU & ỨNG DỤNG\n",
        "### GVHD: TRẦN TRUNG KIÊN\n",
        "### THỰC HIỆN: Nhóm 12\n",
        "### DANH SÁCH THÀNH VIÊN\n",
        "  1. 1712667 - Lê Hữu Phúc\n",
        "  2. 18120167 - Nguyễn Viết Dũng\n",
        "  3. 18120579 - Đặng Minh Thọ\n",
        "  4. 18120584 - Phạm Đình Thục"
      ]
    },
    {
      "cell_type": "markdown",
      "metadata": {
        "id": "h6h5QD6lzeQ1"
      },
      "source": [
        "## 1. GIỚI THIỆU ĐỀ TÀI\n",
        "- **Tên cuộc thi:** Recruit Restaurant Visitor Forecasting\n",
        "- **Mô tả tổng quan:** Dự đoán nhà hàng sẽ nhận được bao nhiêu khách trong tương lai\n",
        "- **Link cuộc thi:** https://www.kaggle.com/c/recruit-restaurant-visitor-forecasting\n",
        "- **Link `TOP 8` Solution:** https://github.com/MaxHalford/kaggle-recruit-restaurant"
      ]
    },
    {
      "cell_type": "markdown",
      "metadata": {
        "id": "Du7PvRyJ1BZZ"
      },
      "source": [
        "## 2. KHÁM PHÁ DỮ LIỆU\n"
      ]
    }
  ]
}